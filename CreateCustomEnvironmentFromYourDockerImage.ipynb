{
  "cells": [
    {
      "cell_type": "markdown",
      "source": [
        "# Run AML code in your custom Conda Environment from base image\r\n",
        "\r\n",
        "Create and register my Environment with custom Conda and python packages from my docker image"
      ],
      "metadata": {
        "nteract": {
          "transient": {
            "deleting": false
          }
        }
      }
    },
    {
      "cell_type": "markdown",
      "source": [
        "## Check if environment already exists"
      ],
      "metadata": {
        "nteract": {
          "transient": {
            "deleting": false
          }
        }
      }
    },
    {
      "cell_type": "code",
      "source": [
        "from azureml.core.conda_dependencies import CondaDependencies\r\n",
        "from azureml.core import Workspace\r\n",
        "from azureml.core import Experiment, ScriptRunConfig, Environment\r\n",
        "\r\n",
        "# Name of your Environment\r\n",
        "myEnvironmentName = 'demoEnvFromDockerImageWithCustomCondaPythonPackages'\r\n",
        "\r\n",
        "# Get the Workspace\r\n",
        "ws = Workspace.from_config()\r\n",
        "print(ws.name, \"loaded\")\r\n",
        "\r\n",
        "try:\r\n",
        "    env_name = Environment.get(workspace=ws, name = myEnvironmentName)\r\n",
        "    print('Environment {} already exists, stop program'.format(env_name))\r\n",
        "except Exception as e:\r\n",
        "    print('Environment {} not found. Proceed to create it...'.format(myEnvironmentName))"
      ],
      "outputs": [],
      "execution_count": null,
      "metadata": {
        "collapsed": true,
        "jupyter": {
          "source_hidden": false,
          "outputs_hidden": false
        },
        "nteract": {
          "transient": {
            "deleting": false
          }
        },
        "gather": {
          "logged": 1616600372991
        }
      }
    },
    {
      "cell_type": "markdown",
      "source": [
        "# Create your custom environment using your docker image from your private registry"
      ],
      "metadata": {
        "nteract": {
          "transient": {
            "deleting": false
          }
        }
      }
    },
    {
      "cell_type": "code",
      "source": [
        "# Create the environment\r\n",
        "env_name = Environment(name=myEnvironmentName)\r\n",
        "# Enable Docker and reference an image\r\n",
        "env_name.docker.enabled = True\r\n",
        "# To use your own installed packages and disable Conda, set the parameter\r\n",
        "env_name.python.user_managed_dependencies=True\r\n",
        "env_name.docker.base_image = \"<your azure container registry name>.azurecr.io/demo-aml/<name of the docker image>:latest\"\r\n",
        "env_name.docker.base_image_registry.username = \"<azure container registry service principal id>\"\r\n",
        "env_name.docker.base_image_registry.password = \"<service principal password>\"\r\n"
      ],
      "outputs": [],
      "execution_count": 4,
      "metadata": {
        "collapsed": true,
        "jupyter": {
          "source_hidden": false,
          "outputs_hidden": false
        },
        "nteract": {
          "transient": {
            "deleting": false
          }
        },
        "gather": {
          "logged": 1616181837709
        }
      }
    },
    {
      "cell_type": "markdown",
      "source": [
        "# Create or attach a compute target"
      ],
      "metadata": {
        "nteract": {
          "transient": {
            "deleting": false
          }
        }
      }
    },
    {
      "cell_type": "code",
      "source": [
        "from azureml.core.compute import ComputeTarget, AmlCompute\r\n",
        "from azureml.core.compute_target import ComputeTargetException\r\n",
        "\r\n",
        "# Name of the compute target\r\n",
        "cluster_name = \"CustomAMLCompute\"\r\n",
        "\r\n",
        "try:\r\n",
        "    compute_target = ComputeTarget(workspace=ws, name=cluster_name)\r\n",
        "    print('Found existing compute target.')\r\n",
        "except ComputeTargetException:\r\n",
        "    print('Creating a new compute target...')\r\n",
        "    compute_config = AmlCompute.provisioning_configuration(vm_size='STANDARD_DS3_V2',\r\n",
        "                                                           max_nodes=4)\r\n",
        "    # Create the cluster\r\n",
        "    compute_target = ComputeTarget.create(ws, cluster_name, compute_config)\r\n",
        "\r\n",
        "    compute_target.wait_for_completion(show_output=True)\r\n",
        "\r\n",
        "# Use get_status() to get a detailed status for the current AmlCompute.\r\n",
        "print(compute_target.get_status().serialize())"
      ],
      "outputs": [],
      "execution_count": null,
      "metadata": {
        "collapsed": true,
        "jupyter": {
          "source_hidden": false,
          "outputs_hidden": false
        },
        "nteract": {
          "transient": {
            "deleting": false
          }
        },
        "gather": {
          "logged": 1616181845262
        }
      }
    },
    {
      "cell_type": "markdown",
      "source": [
        "# Now Train the model from your python script"
      ],
      "metadata": {
        "nteract": {
          "transient": {
            "deleting": false
          }
        }
      }
    },
    {
      "cell_type": "code",
      "source": [
        "from azureml.widgets import RunDetails\r\n",
        "\r\n",
        "training_folder = 'diabetes-training'\r\n",
        "experiment_name = 'train-diabetes-in-custom-environment'\r\n",
        "\r\n",
        "# Create a script config\r\n",
        "script_config = ScriptRunConfig(source_directory=training_folder,\r\n",
        "                                script='diabetes_training.py',\r\n",
        "                                compute_target=compute_target,\r\n",
        "                                environment=env_name) \r\n",
        "\r\n",
        "# submit the experiment run\r\n",
        "experiment = Experiment(workspace=ws, name=experiment_name)\r\n",
        "run = experiment.submit(config=script_config)\r\n",
        "\r\n",
        "# Show the running experiment run in the notebook widget\r\n",
        "RunDetails(run).show()\r\n",
        "\r\n",
        "# Block until the experiment run has completed\r\n",
        "run.wait_for_completion(show_output=True)\r\n",
        "\r\n",
        "# Get logged metrics\r\n",
        "metrics = run.get_metrics()\r\n",
        "for key in metrics.keys():\r\n",
        "        print(key, metrics.get(key))\r\n",
        "print('\\n')\r\n",
        "for file in run.get_file_names():\r\n",
        "    print(file)"
      ],
      "outputs": [],
      "execution_count": null,
      "metadata": {
        "collapsed": true,
        "jupyter": {
          "source_hidden": false,
          "outputs_hidden": false
        },
        "nteract": {
          "transient": {
            "deleting": false
          }
        },
        "gather": {
          "logged": 1616181937922
        }
      }
    },
    {
      "cell_type": "markdown",
      "source": [
        "# Register the custom environment"
      ],
      "metadata": {
        "nteract": {
          "transient": {
            "deleting": false
          }
        }
      }
    },
    {
      "cell_type": "code",
      "source": [
        "env_name.register(workspace=ws)"
      ],
      "outputs": [],
      "execution_count": null,
      "metadata": {
        "collapsed": true,
        "jupyter": {
          "source_hidden": false,
          "outputs_hidden": false
        },
        "nteract": {
          "transient": {
            "deleting": false
          }
        },
        "gather": {
          "logged": 1616183979546
        }
      }
    },
    {
      "cell_type": "markdown",
      "source": [
        "# List all environments in the workspace"
      ],
      "metadata": {
        "nteract": {
          "transient": {
            "deleting": false
          }
        }
      }
    },
    {
      "cell_type": "code",
      "source": [
        "Environment.list(workspace=ws)"
      ],
      "outputs": [],
      "execution_count": null,
      "metadata": {
        "collapsed": true,
        "jupyter": {
          "source_hidden": false,
          "outputs_hidden": false
        },
        "nteract": {
          "transient": {
            "deleting": false
          }
        },
        "gather": {
          "logged": 1616184051573
        }
      }
    }
  ],
  "metadata": {
    "kernelspec": {
      "name": "python3-azureml",
      "language": "python",
      "display_name": "Python 3.6 - AzureML"
    },
    "language_info": {
      "name": "python",
      "version": "3.6.9",
      "mimetype": "text/x-python",
      "codemirror_mode": {
        "name": "ipython",
        "version": 3
      },
      "pygments_lexer": "ipython3",
      "nbconvert_exporter": "python",
      "file_extension": ".py"
    },
    "kernel_info": {
      "name": "python3-azureml"
    },
    "nteract": {
      "version": "nteract-front-end@1.0.0"
    },
    "microsoft": {
      "host": {
        "AzureML": {
          "notebookHasBeenCompleted": true
        }
      }
    }
  },
  "nbformat": 4,
  "nbformat_minor": 2
}